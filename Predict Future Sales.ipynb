{
 "cells": [
  {
   "cell_type": "markdown",
   "metadata": {},
   "source": [
    "https://www.kaggle.com/c/competitive-data-science-predict-future-sales/data\n",
    "\n",
    "+ 작성일: 2018-06-25"
   ]
  },
  {
   "cell_type": "markdown",
   "metadata": {},
   "source": [
    "# 1. Data Import"
   ]
  },
  {
   "cell_type": "code",
   "execution_count": null,
   "metadata": {
    "collapsed": true
   },
   "outputs": [],
   "source": [
    "# import packages\n",
    "import pandas as pd\n",
    "import numpy as np\n",
    "import seaborn as sns\n",
    "import matplotlib.pyplot as plt"
   ]
  },
  {
   "cell_type": "code",
   "execution_count": null,
   "metadata": {
    "collapsed": true
   },
   "outputs": [],
   "source": [
    "sales = pd.read_csv('sales_train.csv')\n",
    "item_categories = pd.read_csv('item_categories.csv')\n",
    "items = pd.read_csv('items.csv')\n",
    "shops = pd.read_csv('shops.csv')\n",
    "test = pd.read_csv('test.csv')"
   ]
  },
  {
   "cell_type": "code",
   "execution_count": null,
   "metadata": {},
   "outputs": [],
   "source": [
    "sales.head()"
   ]
  },
  {
   "cell_type": "code",
   "execution_count": null,
   "metadata": {},
   "outputs": [],
   "source": [
    "item_categories.head()"
   ]
  },
  {
   "cell_type": "code",
   "execution_count": null,
   "metadata": {},
   "outputs": [],
   "source": [
    "items.head()"
   ]
  },
  {
   "cell_type": "code",
   "execution_count": null,
   "metadata": {},
   "outputs": [],
   "source": [
    "shops.head()"
   ]
  },
  {
   "cell_type": "code",
   "execution_count": null,
   "metadata": {},
   "outputs": [],
   "source": [
    "test.head()"
   ]
  },
  {
   "cell_type": "markdown",
   "metadata": {},
   "source": [
    "# 2. EDA"
   ]
  },
  {
   "cell_type": "code",
   "execution_count": null,
   "metadata": {},
   "outputs": [],
   "source": [
    "# item category count check\n",
    "item_data = items.groupby('item_category_id').agg({'item_id':'sum'}).rename(columns = {\"item_id\":'count'})\n",
    "item_data = item_data.sort_values(by=\"count\", ascending=False)[0:10]\n",
    "sns.barplot(x = item_data.index, y = \"count\",data = item_data)\n",
    "plt.title(\"Items per Category\")\n",
    "plt.ylabel('# of items')\n",
    "plt.show()"
   ]
  },
  {
   "cell_type": "markdown",
   "metadata": {},
   "source": [
    "# target distribution\n",
    "\n",
    "data = monthly_sales['item_cnt_month']\n",
    "sns.distplot(data.sample(1000))\n",
    "plt.show()"
   ]
  },
  {
   "cell_type": "markdown",
   "metadata": {},
   "source": [
    "data.describe()"
   ]
  },
  {
   "cell_type": "markdown",
   "metadata": {},
   "source": [
    "# 3. Data Preprocessing"
   ]
  },
  {
   "cell_type": "code",
   "execution_count": null,
   "metadata": {
    "collapsed": true
   },
   "outputs": [],
   "source": [
    "### train + items + item_categories + shops Join\n",
    "sales = sales.join(shops.set_index('shop_id'))  # train + shops join by shop_id \n",
    "items_categories = item_categories.join(items.set_index('item_category_id'))    # item_categories + items join by item_category_id\n",
    "sales = sales.join(items_categories.set_index('item_id'))    # train + items_categories join by item_id"
   ]
  },
  {
   "cell_type": "code",
   "execution_count": null,
   "metadata": {
    "collapsed": true
   },
   "outputs": [],
   "source": [
    "# date 컬럼 포맷 수정 \n",
    "sales['date'] = pd.to_datetime(sales['date'],format=\"%d.%m.%Y\")"
   ]
  },
  {
   "cell_type": "code",
   "execution_count": null,
   "metadata": {},
   "outputs": [],
   "source": [
    "# group by\n",
    "monthly_sales = sales.groupby(['date_block_num', 'shop_id', 'item_id']).agg({'item_cnt_day':'sum'})\n",
    "monthly_sales.rename(columns={'item_cnt_day': 'item_cnt_month'}, inplace=True)\n",
    "monthly_sales.reset_index(level=['date_block_num', 'shop_id', 'item_id'], inplace=True)\n",
    "monthly_sales.head()"
   ]
  },
  {
   "cell_type": "code",
   "execution_count": null,
   "metadata": {},
   "outputs": [],
   "source": [
    "train_df = monthly_sales.pivot_table(index=['shop_id','item_id'], columns='date_block_num', values='item_cnt_month').fillna(0)\n",
    "train_df.reset_index(inplace=True)\n",
    "train_df.head()"
   ]
  },
  {
   "cell_type": "code",
   "execution_count": null,
   "metadata": {},
   "outputs": [],
   "source": [
    "train_df = pd.merge(train_df, items[['item_id', 'item_category_id']], how='inner') # 카테고리 id 추가 \n",
    "train_cleaned_df = train_df[['shop_id', 'item_id', 'item_category_id'] + list(range(34))]\n",
    "train_cleaned_df.head()"
   ]
  },
  {
   "cell_type": "code",
   "execution_count": 14,
   "metadata": {
    "collapsed": true
   },
   "outputs": [],
   "source": [
    "# One hot encoding\n",
    "\n",
    "from numpy import array\n",
    "from numpy import argmax\n",
    "from sklearn.preprocessing import OneHotEncoder\n",
    "\n",
    "integer_encoded = train_cleaned_df[['shop_id','item_category_id']].values\n",
    "onehot_encoder = OneHotEncoder(sparse=False)   \n",
    "#integer_encoded = integer_encoded.reshape(len(integer_encoded), 1)\n",
    "onehot_encoded = onehot_encoder.fit_transform(integer_encoded)"
   ]
  },
  {
   "cell_type": "code",
   "execution_count": 15,
   "metadata": {
    "collapsed": true
   },
   "outputs": [],
   "source": [
    "total =  np.hstack((onehot_encoded, train_cleaned_df[list(range(34))]))\n",
    "X_train = total[:int(total.shape[0] * 0.8),:-1]\n",
    "y_train = total[:int(total.shape[0] * 0.8),-1]\n",
    "\n",
    "X_test = total[int(total.shape[0] * 0.8):,:-1]\n",
    "y_test = total[int(total.shape[0] * 0.8):,-1]"
   ]
  },
  {
   "cell_type": "code",
   "execution_count": 16,
   "metadata": {},
   "outputs": [
    {
     "data": {
      "text/plain": [
       "array([0., 0., 0., ..., 0., 0., 0.])"
      ]
     },
     "execution_count": 16,
     "metadata": {},
     "output_type": "execute_result"
    }
   ],
   "source": [
    "y_train.clip(0, 10).max()\n",
    "y_test.clip(0, 10)"
   ]
  },
  {
   "cell_type": "markdown",
   "metadata": {},
   "source": [
    "# 4. Modeling"
   ]
  },
  {
   "cell_type": "code",
   "execution_count": 17,
   "metadata": {
    "collapsed": true
   },
   "outputs": [],
   "source": [
    "# Utility function to report best scores# Utilit \n",
    "def report(results, n_top=10):\n",
    "    for i in range(1, n_top + 1):\n",
    "        candidates = np.flatnonzero(results['rank_test_score'] == i)\n",
    "        for candidate in candidates:\n",
    "            print(\"Model with rank: {0}\".format(i))\n",
    "            print(\"Mean validation score: {0:.3f} (std: {1:.3f})\".format(\n",
    "                  results['mean_test_score'][candidate],\n",
    "                  results['std_test_score'][candidate]))\n",
    "            print(\"Parameters: {0}\".format(results['params'][candidate]))\n",
    "            print(\"\")"
   ]
  },
  {
   "cell_type": "code",
   "execution_count": 18,
   "metadata": {
    "collapsed": true
   },
   "outputs": [],
   "source": [
    "from sklearn.metrics import mean_squared_error \n",
    "def performance_check(reg, X_train, y_train, X_test, y_test):\n",
    "    # TRAINING PERFORMANCE\n",
    "    #reg = grid_search.best_estimator_\n",
    "    pred = reg.predict(X_train)\n",
    "    train_err = np.sqrt(mean_squared_error(y_train, pred))\n",
    "    print(\"Train ERROR: \", train_err)\n",
    "\n",
    "    # TEST PERFORMANCE\n",
    "    pred = reg.predict(X_test)\n",
    "    test_err = mean_squared_error(y_test, pred)\n",
    "    print(\"TEST ERROR: \", test_err)\n",
    "    \n",
    "    return train_err,test_err"
   ]
  },
  {
   "cell_type": "code",
   "execution_count": 19,
   "metadata": {},
   "outputs": [],
   "source": [
    "X_train = X_train[:10000]\n",
    "y_train = y_train[:10000]\n",
    "X_test = X_test[:10000]\n",
    "y_test = y_test[:10000]"
   ]
  },
  {
   "cell_type": "markdown",
   "metadata": {},
   "source": [
    "## 4.1 Random Forest Regerssion"
   ]
  },
  {
   "cell_type": "code",
   "execution_count": 20,
   "metadata": {
    "collapsed": true
   },
   "outputs": [],
   "source": [
    "RANDOM_SEED=5"
   ]
  },
  {
   "cell_type": "code",
   "execution_count": 25,
   "metadata": {},
   "outputs": [
    {
     "name": "stdout",
     "output_type": "stream",
     "text": [
      "Automatically created module for IPython interactive environment\n",
      "GridSearchCV took 13.28 seconds for 5 candidate parameter settings.\n",
      "Model with rank: 1\n",
      "Mean validation score: -0.082 (std: 0.033)\n",
      "Parameters: {'max_depth': 8}\n",
      "\n",
      "Model with rank: 2\n",
      "Mean validation score: -0.082 (std: 0.033)\n",
      "Parameters: {'max_depth': 16}\n",
      "\n",
      "Model with rank: 3\n",
      "Mean validation score: -0.084 (std: 0.034)\n",
      "Parameters: {'max_depth': 64}\n",
      "\n",
      "Model with rank: 3\n",
      "Mean validation score: -0.084 (std: 0.034)\n",
      "Parameters: {'max_depth': 128}\n",
      "\n",
      "Model with rank: 5\n",
      "Mean validation score: -0.084 (std: 0.034)\n",
      "Parameters: {'max_depth': 32}\n",
      "\n"
     ]
    }
   ],
   "source": [
    "from time import time\n",
    "from scipy.stats import randint as sp_randint\n",
    "from sklearn.model_selection import GridSearchCV\n",
    "import numpy as np\n",
    "from sklearn.ensemble import RandomForestRegressor\n",
    "\n",
    "print(__doc__)\n",
    "\n",
    "# build a classifier\n",
    "reg = RandomForestRegressor(random_state=RANDOM_SEED)\n",
    "# use a full grid over all parameters\n",
    "param_grid={\"max_depth\": [8, 16, 32, 64, 128]}\n",
    "\n",
    "start = time()\n",
    "# run grid search\n",
    "grid_search = GridSearchCV(reg, param_grid=param_grid, \n",
    "                           scoring =\"neg_mean_absolute_error\", cv=5)\n",
    "grid_search.fit(X_train, y_train.clip(0, 20))\n",
    "\n",
    "print(\"GridSearchCV took %.2f seconds for %d candidate parameter settings.\"\n",
    "      % (time() - start, len(grid_search.cv_results_['params'])))\n",
    "report(grid_search.cv_results_)"
   ]
  },
  {
   "cell_type": "code",
   "execution_count": 26,
   "metadata": {},
   "outputs": [
    {
     "name": "stdout",
     "output_type": "stream",
     "text": [
      "Train ERROR:  0.20700223108673826\n",
      "TEST ERROR:  0.33862819855863774\n"
     ]
    }
   ],
   "source": [
    "reg = grid_search.best_estimator_\n",
    "rf_train_err, rf_test_err = performance_check(reg, X_train, y_train.clip(0, 20), X_test, y_test.clip(0, 20))"
   ]
  },
  {
   "cell_type": "markdown",
   "metadata": {},
   "source": [
    "## 4.2 Artificial Neural Network"
   ]
  },
  {
   "cell_type": "code",
   "execution_count": 27,
   "metadata": {},
   "outputs": [
    {
     "name": "stdout",
     "output_type": "stream",
     "text": [
      "Automatically created module for IPython interactive environment\n",
      "GridSearchCV took 212.54 seconds for 6 candidate parameter settings.\n",
      "Model with rank: 1\n",
      "Mean validation score: -0.089 (std: 0.033)\n",
      "Parameters: {'hidden_layer_sizes': (256, 128, 128, 256), 'alpha': 0.1}\n",
      "\n",
      "Model with rank: 2\n",
      "Mean validation score: -0.090 (std: 0.036)\n",
      "Parameters: {'hidden_layer_sizes': (256, 128, 256), 'alpha': 0.1}\n",
      "\n",
      "Model with rank: 3\n",
      "Mean validation score: -0.098 (std: 0.036)\n",
      "Parameters: {'hidden_layer_sizes': (256, 128, 256), 'alpha': 1.0}\n",
      "\n",
      "Model with rank: 4\n",
      "Mean validation score: -0.101 (std: 0.049)\n",
      "Parameters: {'hidden_layer_sizes': (256, 128, 128, 256), 'alpha': 1.0}\n",
      "\n",
      "Model with rank: 5\n",
      "Mean validation score: -0.105 (std: 0.048)\n",
      "Parameters: {'hidden_layer_sizes': (256, 128, 256), 'alpha': 10.0}\n",
      "\n",
      "Model with rank: 6\n",
      "Mean validation score: -0.113 (std: 0.048)\n",
      "Parameters: {'hidden_layer_sizes': (256, 128, 128, 256), 'alpha': 10.0}\n",
      "\n"
     ]
    }
   ],
   "source": [
    "from time import time\n",
    "from scipy.stats import randint as sp_randint\n",
    "from sklearn.model_selection import GridSearchCV\n",
    "import numpy as np\n",
    "from sklearn.neural_network import MLPRegressor\n",
    "\n",
    "print(__doc__)\n",
    "\n",
    "# build a classifier\n",
    "reg = MLPRegressor(random_state=RANDOM_SEED)\n",
    "# use a full grid over all parameters\n",
    "param_grid={\"hidden_layer_sizes\": [(256, 128, 256), \n",
    "                                   (256, 128, 128, 256)],\n",
    "            \"alpha\": np.logspace(-1, 1, 3)}\n",
    "\n",
    "start = time()\n",
    "# run grid search\n",
    "grid_search = GridSearchCV(reg, param_grid=param_grid, \n",
    "                           scoring =\"neg_mean_absolute_error\", cv=5)\n",
    "grid_search.fit(X_train, y_train.clip(0, 20))\n",
    "\n",
    "print(\"GridSearchCV took %.2f seconds for %d candidate parameter settings.\"\n",
    "      % (time() - start, len(grid_search.cv_results_['params'])))\n",
    "report(grid_search.cv_results_)\n"
   ]
  },
  {
   "cell_type": "code",
   "execution_count": 28,
   "metadata": {},
   "outputs": [
    {
     "name": "stdout",
     "output_type": "stream",
     "text": [
      "Train ERROR:  0.14532443216371727\n",
      "TEST ERROR:  0.34615079967718\n"
     ]
    }
   ],
   "source": [
    "reg = grid_search.best_estimator_\n",
    "ann_train_err, ann_test_err = performance_check(reg, X_train, y_train.clip(0, 20), X_test, y_test.clip(0, 20))"
   ]
  },
  {
   "cell_type": "markdown",
   "metadata": {},
   "source": [
    "## 4.3 Gradient Boosting"
   ]
  },
  {
   "cell_type": "code",
   "execution_count": 29,
   "metadata": {},
   "outputs": [
    {
     "name": "stdout",
     "output_type": "stream",
     "text": [
      "Automatically created module for IPython interactive environment\n",
      "GridSearchCV took 16.42 seconds for 9 candidate parameter settings.\n",
      "Model with rank: 1\n",
      "Mean validation score: -0.110 (std: 0.019)\n",
      "Parameters: {'min_samples_split': 4, 'max_depth': 32}\n",
      "\n",
      "Model with rank: 2\n",
      "Mean validation score: -0.110 (std: 0.019)\n",
      "Parameters: {'min_samples_split': 8, 'max_depth': 32}\n",
      "\n",
      "Model with rank: 3\n",
      "Mean validation score: -0.111 (std: 0.018)\n",
      "Parameters: {'min_samples_split': 8, 'max_depth': 16}\n",
      "\n",
      "Model with rank: 4\n",
      "Mean validation score: -0.111 (std: 0.019)\n",
      "Parameters: {'min_samples_split': 4, 'max_depth': 16}\n",
      "\n",
      "Model with rank: 5\n",
      "Mean validation score: -0.111 (std: 0.018)\n",
      "Parameters: {'min_samples_split': 8, 'max_depth': 8}\n",
      "\n",
      "Model with rank: 6\n",
      "Mean validation score: -0.112 (std: 0.020)\n",
      "Parameters: {'min_samples_split': 2, 'max_depth': 16}\n",
      "\n",
      "Model with rank: 7\n",
      "Mean validation score: -0.112 (std: 0.020)\n",
      "Parameters: {'min_samples_split': 2, 'max_depth': 8}\n",
      "\n",
      "Model with rank: 8\n",
      "Mean validation score: -0.112 (std: 0.021)\n",
      "Parameters: {'min_samples_split': 2, 'max_depth': 32}\n",
      "\n",
      "Model with rank: 9\n",
      "Mean validation score: -0.113 (std: 0.021)\n",
      "Parameters: {'min_samples_split': 4, 'max_depth': 8}\n",
      "\n"
     ]
    }
   ],
   "source": [
    "from time import time\n",
    "from scipy.stats import randint as sp_randint\n",
    "from sklearn.model_selection import GridSearchCV\n",
    "import numpy as np\n",
    "from sklearn.ensemble import GradientBoostingRegressor\n",
    "\n",
    "print(__doc__)\n",
    "\n",
    "# build a classifier\n",
    "reg = GradientBoostingRegressor(n_estimators = 5, random_state=RANDOM_SEED)\n",
    "# use a full grid over all parameters\n",
    "param_grid={\"max_depth\": [8, 16, 32],\n",
    "            \"min_samples_split\": [2, 4, 8]}\n",
    "\n",
    "# run grid search\n",
    "grid_search = GridSearchCV(reg, param_grid=param_grid, \n",
    "                           scoring =\"neg_mean_absolute_error\", cv=3)\n",
    "start = time()\n",
    "grid_search.fit(X_train, y_train.clip(0, 20))\n",
    "\n",
    "print(\"GridSearchCV took %.2f seconds for %d candidate parameter settings.\"\n",
    "      % (time() - start, len(grid_search.cv_results_['params'])))\n",
    "report(grid_search.cv_results_)"
   ]
  },
  {
   "cell_type": "code",
   "execution_count": 31,
   "metadata": {},
   "outputs": [
    {
     "name": "stdout",
     "output_type": "stream",
     "text": [
      "Train ERROR:  0.2747683562254246\n",
      "TEST ERROR:  0.34121762197635946\n"
     ]
    }
   ],
   "source": [
    "reg = grid_search.best_estimator_\n",
    "grb_train_err, grb_test_err = performance_check(reg, X_train, y_train.clip(0, 20), X_test, y_test.clip(0, 20))"
   ]
  },
  {
   "cell_type": "markdown",
   "metadata": {},
   "source": [
    "# 5. Model Selection"
   ]
  },
  {
   "cell_type": "code",
   "execution_count": 33,
   "metadata": {},
   "outputs": [
    {
     "name": "stdout",
     "output_type": "stream",
     "text": [
      "[0.14532443216371727, 0.20700223108673826, 0.2747683562254246]\n"
     ]
    },
    {
     "data": {
      "image/png": "[encoded data removed]",
      "text/plain": [
       "<Figure size 432x288 with 1 Axes>"
      ]
     },
     "metadata": {},
     "output_type": "display_data"
    },
    {
     "name": "stdout",
     "output_type": "stream",
     "text": [
      "[0.14532443216371727, 0.20700223108673826, 0.2747683562254246]\n"
     ]
    },
    {
     "data": {
      "image/png": "[encoded data removed]",
      "text/plain": [
       "<Figure size 432x288 with 1 Axes>"
      ]
     },
     "metadata": {},
     "output_type": "display_data"
    },
    {
     "name": "stdout",
     "output_type": "stream",
     "text": [
      "[0.34615079967718, 0.33862819855863774, 0.34121762197635946]\n"
     ]
    }
   ],
   "source": [
    "list_reg = ['ANN', \"RAN_FOR_REG\", \"GR_BOOSTING\"]\n",
    "list_train_err = [ann_train_err, rf_train_err, grb_train_err]\n",
    "list_test_err = [ann_test_err, rf_test_err, grb_test_err]\n",
    "\n",
    "print(list_train_err)\n",
    "plt.bar(list_reg, list_train_err)\n",
    "plt.title('TRAIN_ERR')\n",
    "plt.show()\n",
    "print(list_train_err)\n",
    "\n",
    "\n",
    "plt.bar(list_reg, list_test_err)\n",
    "plt.title('TEST_ERR')\n",
    "plt.show()\n",
    "print(list_test_err)"
   ]
  },
  {
   "cell_type": "code",
   "execution_count": null,
   "metadata": {
    "collapsed": true
   },
   "outputs": [],
   "source": []
  }
 ],
 "metadata": {
  "kernelspec": {
   "display_name": "Python 3",
   "language": "python",
   "name": "python3"
  },
  "language_info": {
   "codemirror_mode": {
    "name": "ipython",
    "version": 3
   },
   "file_extension": ".py",
   "mimetype": "text/x-python",
   "name": "python",
   "nbconvert_exporter": "python",
   "pygments_lexer": "ipython3",
   "version": "3.5.4"
  }
 },
 "nbformat": 4,
 "nbformat_minor": 2
}
